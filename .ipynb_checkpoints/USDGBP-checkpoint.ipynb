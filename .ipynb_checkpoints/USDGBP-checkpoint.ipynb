{
 "cells": [
  {
   "cell_type": "markdown",
   "metadata": {},
   "source": [
    "# USD vs. GBP"
   ]
  },
  {
   "cell_type": "markdown",
   "metadata": {},
   "source": [
    "### Peeling out the monetary shock"
   ]
  },
  {
   "cell_type": "code",
   "execution_count": 34,
   "metadata": {},
   "outputs": [],
   "source": [
    "Docker = \"To peel out a monetary shocks TS, the data needed are:\\n \\\n",
    "          * The federal funds rate series \\n \\\n",
    "          * The inflation sequence \\n \\\n",
    "          * The output gap sequence.\"\n",
    "\"\"\"To get the output gap sequence, we use a quadratic function to fit the trend and determine the gap.\"\"\"\n",
    "import pandas as pd\n",
    "import numpy as np\n",
    "from datetime import datetime\n",
    "import datetime as dt\n",
    "from matplotlib import pyplot as plt\n",
    "%matplotlib inline\n",
    "import statsmodels.api as sm"
   ]
  },
  {
   "cell_type": "code",
   "execution_count": 18,
   "metadata": {},
   "outputs": [],
   "source": [
    "#Configuration\n",
    "start = datetime(1990,1,1)\n",
    "end = datetime(2007,1,1)\n",
    "pin_date = 15      #The standing date for month frequecy data entry."
   ]
  },
  {
   "cell_type": "markdown",
   "metadata": {},
   "source": [
    "#### Get the output gap time series"
   ]
  },
  {
   "cell_type": "code",
   "execution_count": 4,
   "metadata": {},
   "outputs": [],
   "source": [
    "#Data inquiry\n",
    "otpt_raw = pd.read_excel(\"data/production.xlsx\")\n",
    "otpt = pd.Series(otpt_raw.iloc[:,1].values,index=otpt_raw.iloc[:,0].values,name=\"industrial_output\")[start:end]"
   ]
  },
  {
   "cell_type": "code",
   "execution_count": 50,
   "metadata": {},
   "outputs": [],
   "source": [
    "#Fitting the quadratic model\n",
    "regress = pd.DataFrame({'output':otpt})\n",
    "regress['time'] = np.arange(len(regress))\n",
    "regress['timesq'] = regress['time']**2\n",
    "regress['constant'] = 1\n",
    "model = sm.OLS(regress['output'],regress.drop('output',axis=1))\n",
    "result = model.fit(cov_type=\"HC3\")\n",
    "#Get the residual series\n",
    "output_gap = result.resid"
   ]
  },
  {
   "cell_type": "code",
   "execution_count": null,
   "metadata": {},
   "outputs": [],
   "source": []
  },
  {
   "cell_type": "markdown",
   "metadata": {},
   "source": [
    "#### Get the inflation time series"
   ]
  },
  {
   "cell_type": "code",
   "execution_count": 51,
   "metadata": {},
   "outputs": [
    {
     "data": {
      "text/plain": [
       "1990-01-15    5.601592\n",
       "1990-02-15    5.916686\n",
       "1990-03-15    5.907196\n",
       "1990-04-15    5.485221\n",
       "1990-05-15    5.309661\n",
       "1990-06-15    5.203515\n",
       "1990-07-15    4.811585\n",
       "1990-08-15    4.695069\n",
       "1990-09-15    4.471668\n",
       "1990-10-15    3.671883\n",
       "1990-11-15    2.606412\n",
       "1990-12-15    1.884656\n",
       "1991-01-15    1.297516\n",
       "1991-02-15    0.562090\n",
       "1991-03-15   -0.076221\n",
       "1991-04-15   -0.251517\n",
       "1991-05-15    0.065602\n",
       "1991-06-15    0.335036\n",
       "1991-07-15    0.099284\n",
       "1991-08-15   -0.150252\n",
       "1991-09-15    0.110627\n",
       "1991-10-15   -0.294079\n",
       "1991-11-15   -0.667471\n",
       "1991-12-15   -1.215047\n",
       "1992-01-15   -1.866309\n",
       "1992-02-15   -1.712255\n",
       "1992-03-15   -1.472887\n",
       "1992-04-15   -1.279003\n",
       "1992-05-15   -1.357805\n",
       "1992-06-15   -1.638192\n",
       "                ...   \n",
       "2004-07-15   -1.795585\n",
       "2004-08-15   -1.865690\n",
       "2004-09-15   -1.923980\n",
       "2004-10-15   -1.148455\n",
       "2004-11-15   -1.078315\n",
       "2004-12-15   -0.509460\n",
       "2005-01-15   -0.185290\n",
       "2005-02-15    0.342494\n",
       "2005-03-15    0.067294\n",
       "2005-04-15    0.081709\n",
       "2005-05-15    0.080138\n",
       "2005-06-15    0.334183\n",
       "2005-07-15   -0.107657\n",
       "2005-08-15    0.033017\n",
       "2005-09-15   -1.959394\n",
       "2005-10-15   -0.851989\n",
       "2005-11-15    0.030030\n",
       "2005-12-15    0.520964\n",
       "2006-01-15    0.513213\n",
       "2006-02-15    0.400978\n",
       "2006-03-15    0.475457\n",
       "2006-04-15    0.764051\n",
       "2006-05-15    0.537160\n",
       "2006-06-15    0.811084\n",
       "2006-07-15    0.654322\n",
       "2006-08-15    0.929276\n",
       "2006-09-15    0.601245\n",
       "2006-10-15    0.429629\n",
       "2006-11-15    0.202627\n",
       "2006-12-15    1.160341\n",
       "Length: 204, dtype: float64"
      ]
     },
     "execution_count": 51,
     "metadata": {},
     "output_type": "execute_result"
    }
   ],
   "source": [
    "output_gap"
   ]
  }
 ],
 "metadata": {
  "kernelspec": {
   "display_name": "Python 3",
   "language": "python",
   "name": "python3"
  },
  "language_info": {
   "codemirror_mode": {
    "name": "ipython",
    "version": 3
   },
   "file_extension": ".py",
   "mimetype": "text/x-python",
   "name": "python",
   "nbconvert_exporter": "python",
   "pygments_lexer": "ipython3",
   "version": "3.7.1"
  }
 },
 "nbformat": 4,
 "nbformat_minor": 2
}
